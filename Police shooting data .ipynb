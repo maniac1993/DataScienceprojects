{
 "cells": [
  {
   "cell_type": "code",
   "execution_count": 1,
   "metadata": {},
   "outputs": [],
   "source": [
    "#What about rate of shootings\n",
    "#What is the rate of killings relative to race and age\n",
    "#Which states have the most kills\n",
    "import pandas as pd\n",
    "import numpy as np\n",
    "import matplotlib.pyplot as plt\n",
    "import seaborn as sb\n",
    "import sklearn\n",
    "\n",
    "from pandas import Series,DataFrame\n",
    "from pylab import rcParams\n",
    "from sklearn import preprocessing\n",
    "\n",
    "from sklearn.linear_model import LogisticRegression\n",
    "from sklearn.model_selection import train_test_split\n",
    "from sklearn.model_selection import cross_val_predict\n",
    "\n",
    "from sklearn import metrics\n",
    "from sklearn.metrics import classification_report\n",
    "from sklearn.metrics import confusion_matrix\n",
    "from sklearn.metrics import precision_score,recall_score\n"
   ]
  },
  {
   "cell_type": "code",
   "execution_count": 2,
   "metadata": {},
   "outputs": [],
   "source": [
    "%matplotlib inline\n",
    "rcParams['figure.figsize']=10,8\n",
    "sb.set_style('whitegrid')"
   ]
  },
  {
   "cell_type": "code",
   "execution_count": 3,
   "metadata": {},
   "outputs": [],
   "source": [
    "add='C:\\\\Users\\\\Prashant\\\\Desktop\\\\Data science practice\\\\fatal-police-shootings-data.csv'\n",
    "data=pd.read_csv(add)\n",
    "data.columns=['id','name','date','manner_of_death','armed','age','gender','race','city','state','mental_illness','threat_level','flee','body_camera']"
   ]
  },
  {
   "cell_type": "code",
   "execution_count": 4,
   "metadata": {
    "scrolled": true
   },
   "outputs": [
    {
     "data": {
      "text/html": [
       "<div>\n",
       "<style scoped>\n",
       "    .dataframe tbody tr th:only-of-type {\n",
       "        vertical-align: middle;\n",
       "    }\n",
       "\n",
       "    .dataframe tbody tr th {\n",
       "        vertical-align: top;\n",
       "    }\n",
       "\n",
       "    .dataframe thead th {\n",
       "        text-align: right;\n",
       "    }\n",
       "</style>\n",
       "<table border=\"1\" class=\"dataframe\">\n",
       "  <thead>\n",
       "    <tr style=\"text-align: right;\">\n",
       "      <th></th>\n",
       "      <th>id</th>\n",
       "      <th>name</th>\n",
       "      <th>date</th>\n",
       "      <th>manner_of_death</th>\n",
       "      <th>armed</th>\n",
       "      <th>age</th>\n",
       "      <th>gender</th>\n",
       "      <th>race</th>\n",
       "      <th>city</th>\n",
       "      <th>state</th>\n",
       "      <th>mental_illness</th>\n",
       "      <th>threat_level</th>\n",
       "      <th>flee</th>\n",
       "      <th>body_camera</th>\n",
       "      <th>year</th>\n",
       "      <th>month</th>\n",
       "      <th>day</th>\n",
       "    </tr>\n",
       "  </thead>\n",
       "  <tbody>\n",
       "    <tr>\n",
       "      <th>0</th>\n",
       "      <td>3</td>\n",
       "      <td>Tim Elliot</td>\n",
       "      <td>2015-01-02</td>\n",
       "      <td>shot</td>\n",
       "      <td>gun</td>\n",
       "      <td>53.0</td>\n",
       "      <td>M</td>\n",
       "      <td>A</td>\n",
       "      <td>Shelton</td>\n",
       "      <td>WA</td>\n",
       "      <td>True</td>\n",
       "      <td>attack</td>\n",
       "      <td>Not fleeing</td>\n",
       "      <td>False</td>\n",
       "      <td>2015</td>\n",
       "      <td>01</td>\n",
       "      <td>02</td>\n",
       "    </tr>\n",
       "    <tr>\n",
       "      <th>1</th>\n",
       "      <td>4</td>\n",
       "      <td>Lewis Lee Lembke</td>\n",
       "      <td>2015-01-02</td>\n",
       "      <td>shot</td>\n",
       "      <td>gun</td>\n",
       "      <td>47.0</td>\n",
       "      <td>M</td>\n",
       "      <td>W</td>\n",
       "      <td>Aloha</td>\n",
       "      <td>OR</td>\n",
       "      <td>False</td>\n",
       "      <td>attack</td>\n",
       "      <td>Not fleeing</td>\n",
       "      <td>False</td>\n",
       "      <td>2015</td>\n",
       "      <td>01</td>\n",
       "      <td>02</td>\n",
       "    </tr>\n",
       "    <tr>\n",
       "      <th>2</th>\n",
       "      <td>5</td>\n",
       "      <td>John Paul Quintero</td>\n",
       "      <td>2015-01-03</td>\n",
       "      <td>shot and Tasered</td>\n",
       "      <td>unarmed</td>\n",
       "      <td>23.0</td>\n",
       "      <td>M</td>\n",
       "      <td>H</td>\n",
       "      <td>Wichita</td>\n",
       "      <td>KS</td>\n",
       "      <td>False</td>\n",
       "      <td>other</td>\n",
       "      <td>Not fleeing</td>\n",
       "      <td>False</td>\n",
       "      <td>2015</td>\n",
       "      <td>01</td>\n",
       "      <td>03</td>\n",
       "    </tr>\n",
       "    <tr>\n",
       "      <th>3</th>\n",
       "      <td>8</td>\n",
       "      <td>Matthew Hoffman</td>\n",
       "      <td>2015-01-04</td>\n",
       "      <td>shot</td>\n",
       "      <td>toy weapon</td>\n",
       "      <td>32.0</td>\n",
       "      <td>M</td>\n",
       "      <td>W</td>\n",
       "      <td>San Francisco</td>\n",
       "      <td>CA</td>\n",
       "      <td>True</td>\n",
       "      <td>attack</td>\n",
       "      <td>Not fleeing</td>\n",
       "      <td>False</td>\n",
       "      <td>2015</td>\n",
       "      <td>01</td>\n",
       "      <td>04</td>\n",
       "    </tr>\n",
       "    <tr>\n",
       "      <th>4</th>\n",
       "      <td>9</td>\n",
       "      <td>Michael Rodriguez</td>\n",
       "      <td>2015-01-04</td>\n",
       "      <td>shot</td>\n",
       "      <td>nail gun</td>\n",
       "      <td>39.0</td>\n",
       "      <td>M</td>\n",
       "      <td>H</td>\n",
       "      <td>Evans</td>\n",
       "      <td>CO</td>\n",
       "      <td>False</td>\n",
       "      <td>attack</td>\n",
       "      <td>Not fleeing</td>\n",
       "      <td>False</td>\n",
       "      <td>2015</td>\n",
       "      <td>01</td>\n",
       "      <td>04</td>\n",
       "    </tr>\n",
       "  </tbody>\n",
       "</table>\n",
       "</div>"
      ],
      "text/plain": [
       "   id                name        date   manner_of_death       armed   age  \\\n",
       "0   3          Tim Elliot  2015-01-02              shot         gun  53.0   \n",
       "1   4    Lewis Lee Lembke  2015-01-02              shot         gun  47.0   \n",
       "2   5  John Paul Quintero  2015-01-03  shot and Tasered     unarmed  23.0   \n",
       "3   8     Matthew Hoffman  2015-01-04              shot  toy weapon  32.0   \n",
       "4   9   Michael Rodriguez  2015-01-04              shot    nail gun  39.0   \n",
       "\n",
       "  gender race           city state  mental_illness threat_level         flee  \\\n",
       "0      M    A        Shelton    WA            True       attack  Not fleeing   \n",
       "1      M    W          Aloha    OR           False       attack  Not fleeing   \n",
       "2      M    H        Wichita    KS           False        other  Not fleeing   \n",
       "3      M    W  San Francisco    CA            True       attack  Not fleeing   \n",
       "4      M    H          Evans    CO           False       attack  Not fleeing   \n",
       "\n",
       "   body_camera  year month day  \n",
       "0        False  2015    01  02  \n",
       "1        False  2015    01  02  \n",
       "2        False  2015    01  03  \n",
       "3        False  2015    01  04  \n",
       "4        False  2015    01  04  "
      ]
     },
     "execution_count": 4,
     "metadata": {},
     "output_type": "execute_result"
    }
   ],
   "source": [
    "data[['year','month','day']]=data.date.str.split('-',expand=True)#splitting date(object) and adding'year','month','day'\n",
    "data.head()"
   ]
  },
  {
   "cell_type": "code",
   "execution_count": 5,
   "metadata": {},
   "outputs": [
    {
     "name": "stdout",
     "output_type": "stream",
     "text": [
      "<class 'pandas.core.frame.DataFrame'>\n",
      "RangeIndex: 5416 entries, 0 to 5415\n",
      "Data columns (total 17 columns):\n",
      " #   Column           Non-Null Count  Dtype  \n",
      "---  ------           --------------  -----  \n",
      " 0   id               5416 non-null   int64  \n",
      " 1   name             5416 non-null   object \n",
      " 2   date             5416 non-null   object \n",
      " 3   manner_of_death  5416 non-null   object \n",
      " 4   armed            5189 non-null   object \n",
      " 5   age              5181 non-null   float64\n",
      " 6   gender           5414 non-null   object \n",
      " 7   race             4895 non-null   object \n",
      " 8   city             5416 non-null   object \n",
      " 9   state            5416 non-null   object \n",
      " 10  mental_illness   5416 non-null   bool   \n",
      " 11  threat_level     5416 non-null   object \n",
      " 12  flee             5167 non-null   object \n",
      " 13  body_camera      5416 non-null   bool   \n",
      " 14  year             5416 non-null   object \n",
      " 15  month            5416 non-null   object \n",
      " 16  day              5416 non-null   object \n",
      "dtypes: bool(2), float64(1), int64(1), object(13)\n",
      "memory usage: 645.4+ KB\n"
     ]
    }
   ],
   "source": [
    "data.info()"
   ]
  },
  {
   "cell_type": "code",
   "execution_count": 65,
   "metadata": {},
   "outputs": [
    {
     "data": {
      "image/png": "[encoded data removed]",
      "text/plain": [
       "<Figure size 720x576 with 1 Axes>"
      ]
     },
     "metadata": {},
     "output_type": "display_data"
    }
   ],
   "source": [
    "year_rate=data['year'].value_counts().plot(kind='bar')"
   ]
  },
  {
   "cell_type": "code",
   "execution_count": 7,
   "metadata": {},
   "outputs": [],
   "source": [
    "uni_yr=year_rate.nunique()"
   ]
  },
  {
   "cell_type": "code",
   "execution_count": 8,
   "metadata": {},
   "outputs": [
    {
     "name": "stdout",
     "output_type": "stream",
     "text": [
      "5416\n"
     ]
    },
    {
     "data": {
      "text/plain": [
       "902.6666666666666"
      ]
     },
     "execution_count": 8,
     "metadata": {},
     "output_type": "execute_result"
    }
   ],
   "source": [
    "x=sum(year_rate)\n",
    "print(x)\n",
    "rpy=x/uni_yr\n",
    "rpy#rate of killings per year"
   ]
  },
  {
   "cell_type": "code",
   "execution_count": 9,
   "metadata": {},
   "outputs": [
    {
     "name": "stdout",
     "output_type": "stream",
     "text": [
      "<class 'pandas.core.frame.DataFrame'>\n",
      "RangeIndex: 5416 entries, 0 to 5415\n",
      "Data columns (total 17 columns):\n",
      " #   Column           Non-Null Count  Dtype  \n",
      "---  ------           --------------  -----  \n",
      " 0   id               5416 non-null   int64  \n",
      " 1   name             5416 non-null   object \n",
      " 2   date             5416 non-null   object \n",
      " 3   manner_of_death  5416 non-null   object \n",
      " 4   armed            5189 non-null   object \n",
      " 5   age              5181 non-null   float64\n",
      " 6   gender           5414 non-null   object \n",
      " 7   race             4895 non-null   object \n",
      " 8   city             5416 non-null   object \n",
      " 9   state            5416 non-null   object \n",
      " 10  mental_illness   5416 non-null   bool   \n",
      " 11  threat_level     5416 non-null   object \n",
      " 12  flee             5167 non-null   object \n",
      " 13  body_camera      5416 non-null   bool   \n",
      " 14  year             5416 non-null   object \n",
      " 15  month            5416 non-null   object \n",
      " 16  day              5416 non-null   object \n",
      "dtypes: bool(2), float64(1), int64(1), object(13)\n",
      "memory usage: 645.4+ KB\n"
     ]
    }
   ],
   "source": [
    "data_1=data.copy()\n",
    "data_2=data.copy()\n",
    "data_1.info()"
   ]
  },
  {
   "cell_type": "code",
   "execution_count": 10,
   "metadata": {},
   "outputs": [
    {
     "name": "stdout",
     "output_type": "stream",
     "text": [
      "<class 'pandas.core.frame.DataFrame'>\n",
      "Int64Index: 4895 entries, 0 to 5413\n",
      "Data columns (total 17 columns):\n",
      " #   Column           Non-Null Count  Dtype  \n",
      "---  ------           --------------  -----  \n",
      " 0   id               4895 non-null   int64  \n",
      " 1   name             4895 non-null   object \n",
      " 2   date             4895 non-null   object \n",
      " 3   manner_of_death  4895 non-null   object \n",
      " 4   armed            4678 non-null   object \n",
      " 5   age              4810 non-null   float64\n",
      " 6   gender           4894 non-null   object \n",
      " 7   race             4895 non-null   object \n",
      " 8   city             4895 non-null   object \n",
      " 9   state            4895 non-null   object \n",
      " 10  mental_illness   4895 non-null   bool   \n",
      " 11  threat_level     4895 non-null   object \n",
      " 12  flee             4688 non-null   object \n",
      " 13  body_camera      4895 non-null   bool   \n",
      " 14  year             4895 non-null   object \n",
      " 15  month            4895 non-null   object \n",
      " 16  day              4895 non-null   object \n",
      "dtypes: bool(2), float64(1), int64(1), object(13)\n",
      "memory usage: 621.4+ KB\n"
     ]
    }
   ],
   "source": [
    "data_1.dropna(subset=['race'], inplace=True)\n",
    "data_1.info()"
   ]
  },
  {
   "cell_type": "code",
   "execution_count": 11,
   "metadata": {},
   "outputs": [
    {
     "name": "stdout",
     "output_type": "stream",
     "text": [
      "<class 'pandas.core.frame.DataFrame'>\n",
      "RangeIndex: 5416 entries, 0 to 5415\n",
      "Data columns (total 17 columns):\n",
      " #   Column           Non-Null Count  Dtype  \n",
      "---  ------           --------------  -----  \n",
      " 0   id               5416 non-null   int64  \n",
      " 1   name             5416 non-null   object \n",
      " 2   date             5416 non-null   object \n",
      " 3   manner_of_death  5416 non-null   object \n",
      " 4   armed            5189 non-null   object \n",
      " 5   age              5181 non-null   float64\n",
      " 6   gender           5414 non-null   object \n",
      " 7   race             4895 non-null   object \n",
      " 8   city             5416 non-null   object \n",
      " 9   state            5416 non-null   object \n",
      " 10  mental_illness   5416 non-null   bool   \n",
      " 11  threat_level     5416 non-null   object \n",
      " 12  flee             5167 non-null   object \n",
      " 13  body_camera      5416 non-null   bool   \n",
      " 14  year             5416 non-null   object \n",
      " 15  month            5416 non-null   object \n",
      " 16  day              5416 non-null   object \n",
      "dtypes: bool(2), float64(1), int64(1), object(13)\n",
      "memory usage: 645.4+ KB\n"
     ]
    }
   ],
   "source": [
    "data.info()"
   ]
  },
  {
   "cell_type": "code",
   "execution_count": 12,
   "metadata": {},
   "outputs": [
    {
     "data": {
      "text/html": [
       "<div>\n",
       "<style scoped>\n",
       "    .dataframe tbody tr th:only-of-type {\n",
       "        vertical-align: middle;\n",
       "    }\n",
       "\n",
       "    .dataframe tbody tr th {\n",
       "        vertical-align: top;\n",
       "    }\n",
       "\n",
       "    .dataframe thead th {\n",
       "        text-align: right;\n",
       "    }\n",
       "</style>\n",
       "<table border=\"1\" class=\"dataframe\">\n",
       "  <thead>\n",
       "    <tr style=\"text-align: right;\">\n",
       "      <th></th>\n",
       "      <th></th>\n",
       "      <th>id</th>\n",
       "      <th>name</th>\n",
       "      <th>date</th>\n",
       "      <th>manner_of_death</th>\n",
       "      <th>armed</th>\n",
       "      <th>age</th>\n",
       "      <th>gender</th>\n",
       "      <th>city</th>\n",
       "      <th>state</th>\n",
       "      <th>mental_illness</th>\n",
       "      <th>threat_level</th>\n",
       "      <th>flee</th>\n",
       "      <th>body_camera</th>\n",
       "      <th>month</th>\n",
       "      <th>day</th>\n",
       "    </tr>\n",
       "    <tr>\n",
       "      <th>race</th>\n",
       "      <th>year</th>\n",
       "      <th></th>\n",
       "      <th></th>\n",
       "      <th></th>\n",
       "      <th></th>\n",
       "      <th></th>\n",
       "      <th></th>\n",
       "      <th></th>\n",
       "      <th></th>\n",
       "      <th></th>\n",
       "      <th></th>\n",
       "      <th></th>\n",
       "      <th></th>\n",
       "      <th></th>\n",
       "      <th></th>\n",
       "      <th></th>\n",
       "    </tr>\n",
       "  </thead>\n",
       "  <tbody>\n",
       "    <tr>\n",
       "      <th>A</th>\n",
       "      <th>2015</th>\n",
       "      <td>14</td>\n",
       "      <td>14</td>\n",
       "      <td>14</td>\n",
       "      <td>14</td>\n",
       "      <td>13</td>\n",
       "      <td>13</td>\n",
       "      <td>14</td>\n",
       "      <td>14</td>\n",
       "      <td>14</td>\n",
       "      <td>14</td>\n",
       "      <td>14</td>\n",
       "      <td>14</td>\n",
       "      <td>14</td>\n",
       "      <td>14</td>\n",
       "      <td>14</td>\n",
       "    </tr>\n",
       "  </tbody>\n",
       "</table>\n",
       "</div>"
      ],
      "text/plain": [
       "           id  name  date  manner_of_death  armed  age  gender  city  state  \\\n",
       "race year                                                                     \n",
       "A    2015  14    14    14               14     13   13      14    14     14   \n",
       "\n",
       "           mental_illness  threat_level  flee  body_camera  month  day  \n",
       "race year                                                               \n",
       "A    2015              14            14    14           14     14   14  "
      ]
     },
     "execution_count": 12,
     "metadata": {},
     "output_type": "execute_result"
    }
   ],
   "source": [
    "spr=data_1.groupby(['race','year']).count()\n",
    "spr[0:1]"
   ]
  },
  {
   "cell_type": "code",
   "execution_count": 13,
   "metadata": {},
   "outputs": [
    {
     "data": {
      "text/plain": [
       "W    2476\n",
       "B    1298\n",
       "H     902\n",
       "A      93\n",
       "N      78\n",
       "O      48\n",
       "Name: race, dtype: int64"
      ]
     },
     "execution_count": 13,
     "metadata": {},
     "output_type": "execute_result"
    }
   ],
   "source": [
    "race_rate=data_1['race'].value_counts()\n",
    "race_rate"
   ]
  },
  {
   "cell_type": "code",
   "execution_count": 14,
   "metadata": {},
   "outputs": [
    {
     "data": {
      "text/plain": [
       "W    412.666667\n",
       "B    216.333333\n",
       "H    150.333333\n",
       "A     15.500000\n",
       "N     13.000000\n",
       "O      8.000000\n",
       "Name: race, dtype: float64"
      ]
     },
     "execution_count": 14,
     "metadata": {},
     "output_type": "execute_result"
    }
   ],
   "source": [
    "racepy=race_rate/6\n",
    "racepy"
   ]
  },
  {
   "cell_type": "code",
   "execution_count": 15,
   "metadata": {},
   "outputs": [
    {
     "data": {
      "image/png": "[encoded data removed]",
      "text/plain": [
       "<Figure size 720x576 with 1 Axes>"
      ]
     },
     "metadata": {},
     "output_type": "display_data"
    }
   ],
   "source": [
    "plot=racepy.plot.pie(y='racerate',autopct='%1.0f%%')"
   ]
  },
  {
   "cell_type": "code",
   "execution_count": 16,
   "metadata": {},
   "outputs": [
    {
     "data": {
      "text/html": [
       "<div>\n",
       "<style scoped>\n",
       "    .dataframe tbody tr th:only-of-type {\n",
       "        vertical-align: middle;\n",
       "    }\n",
       "\n",
       "    .dataframe tbody tr th {\n",
       "        vertical-align: top;\n",
       "    }\n",
       "\n",
       "    .dataframe thead th {\n",
       "        text-align: right;\n",
       "    }\n",
       "</style>\n",
       "<table border=\"1\" class=\"dataframe\">\n",
       "  <thead>\n",
       "    <tr style=\"text-align: right;\">\n",
       "      <th></th>\n",
       "      <th>id</th>\n",
       "      <th>name</th>\n",
       "      <th>date</th>\n",
       "      <th>manner_of_death</th>\n",
       "      <th>armed</th>\n",
       "      <th>age</th>\n",
       "      <th>gender</th>\n",
       "      <th>race</th>\n",
       "      <th>city</th>\n",
       "      <th>state</th>\n",
       "      <th>mental_illness</th>\n",
       "      <th>threat_level</th>\n",
       "      <th>flee</th>\n",
       "      <th>body_camera</th>\n",
       "      <th>year</th>\n",
       "      <th>month</th>\n",
       "      <th>day</th>\n",
       "    </tr>\n",
       "  </thead>\n",
       "  <tbody>\n",
       "    <tr>\n",
       "      <th>0</th>\n",
       "      <td>3</td>\n",
       "      <td>Tim Elliot</td>\n",
       "      <td>2015-01-02</td>\n",
       "      <td>shot</td>\n",
       "      <td>gun</td>\n",
       "      <td>53.0</td>\n",
       "      <td>M</td>\n",
       "      <td>A</td>\n",
       "      <td>Shelton</td>\n",
       "      <td>WA</td>\n",
       "      <td>True</td>\n",
       "      <td>attack</td>\n",
       "      <td>Not fleeing</td>\n",
       "      <td>False</td>\n",
       "      <td>2015</td>\n",
       "      <td>01</td>\n",
       "      <td>02</td>\n",
       "    </tr>\n",
       "    <tr>\n",
       "      <th>1</th>\n",
       "      <td>4</td>\n",
       "      <td>Lewis Lee Lembke</td>\n",
       "      <td>2015-01-02</td>\n",
       "      <td>shot</td>\n",
       "      <td>gun</td>\n",
       "      <td>47.0</td>\n",
       "      <td>M</td>\n",
       "      <td>W</td>\n",
       "      <td>Aloha</td>\n",
       "      <td>OR</td>\n",
       "      <td>False</td>\n",
       "      <td>attack</td>\n",
       "      <td>Not fleeing</td>\n",
       "      <td>False</td>\n",
       "      <td>2015</td>\n",
       "      <td>01</td>\n",
       "      <td>02</td>\n",
       "    </tr>\n",
       "    <tr>\n",
       "      <th>2</th>\n",
       "      <td>5</td>\n",
       "      <td>John Paul Quintero</td>\n",
       "      <td>2015-01-03</td>\n",
       "      <td>shot and Tasered</td>\n",
       "      <td>unarmed</td>\n",
       "      <td>23.0</td>\n",
       "      <td>M</td>\n",
       "      <td>H</td>\n",
       "      <td>Wichita</td>\n",
       "      <td>KS</td>\n",
       "      <td>False</td>\n",
       "      <td>other</td>\n",
       "      <td>Not fleeing</td>\n",
       "      <td>False</td>\n",
       "      <td>2015</td>\n",
       "      <td>01</td>\n",
       "      <td>03</td>\n",
       "    </tr>\n",
       "    <tr>\n",
       "      <th>3</th>\n",
       "      <td>8</td>\n",
       "      <td>Matthew Hoffman</td>\n",
       "      <td>2015-01-04</td>\n",
       "      <td>shot</td>\n",
       "      <td>toy weapon</td>\n",
       "      <td>32.0</td>\n",
       "      <td>M</td>\n",
       "      <td>W</td>\n",
       "      <td>San Francisco</td>\n",
       "      <td>CA</td>\n",
       "      <td>True</td>\n",
       "      <td>attack</td>\n",
       "      <td>Not fleeing</td>\n",
       "      <td>False</td>\n",
       "      <td>2015</td>\n",
       "      <td>01</td>\n",
       "      <td>04</td>\n",
       "    </tr>\n",
       "    <tr>\n",
       "      <th>4</th>\n",
       "      <td>9</td>\n",
       "      <td>Michael Rodriguez</td>\n",
       "      <td>2015-01-04</td>\n",
       "      <td>shot</td>\n",
       "      <td>nail gun</td>\n",
       "      <td>39.0</td>\n",
       "      <td>M</td>\n",
       "      <td>H</td>\n",
       "      <td>Evans</td>\n",
       "      <td>CO</td>\n",
       "      <td>False</td>\n",
       "      <td>attack</td>\n",
       "      <td>Not fleeing</td>\n",
       "      <td>False</td>\n",
       "      <td>2015</td>\n",
       "      <td>01</td>\n",
       "      <td>04</td>\n",
       "    </tr>\n",
       "  </tbody>\n",
       "</table>\n",
       "</div>"
      ],
      "text/plain": [
       "   id                name        date   manner_of_death       armed   age  \\\n",
       "0   3          Tim Elliot  2015-01-02              shot         gun  53.0   \n",
       "1   4    Lewis Lee Lembke  2015-01-02              shot         gun  47.0   \n",
       "2   5  John Paul Quintero  2015-01-03  shot and Tasered     unarmed  23.0   \n",
       "3   8     Matthew Hoffman  2015-01-04              shot  toy weapon  32.0   \n",
       "4   9   Michael Rodriguez  2015-01-04              shot    nail gun  39.0   \n",
       "\n",
       "  gender race           city state  mental_illness threat_level         flee  \\\n",
       "0      M    A        Shelton    WA            True       attack  Not fleeing   \n",
       "1      M    W          Aloha    OR           False       attack  Not fleeing   \n",
       "2      M    H        Wichita    KS           False        other  Not fleeing   \n",
       "3      M    W  San Francisco    CA            True       attack  Not fleeing   \n",
       "4      M    H          Evans    CO           False       attack  Not fleeing   \n",
       "\n",
       "   body_camera  year month day  \n",
       "0        False  2015    01  02  \n",
       "1        False  2015    01  02  \n",
       "2        False  2015    01  03  \n",
       "3        False  2015    01  04  \n",
       "4        False  2015    01  04  "
      ]
     },
     "execution_count": 16,
     "metadata": {},
     "output_type": "execute_result"
    }
   ],
   "source": [
    "data.head()"
   ]
  },
  {
   "cell_type": "code",
   "execution_count": 17,
   "metadata": {},
   "outputs": [
    {
     "name": "stdout",
     "output_type": "stream",
     "text": [
      "<class 'pandas.core.frame.DataFrame'>\n",
      "RangeIndex: 5416 entries, 0 to 5415\n",
      "Data columns (total 17 columns):\n",
      " #   Column           Non-Null Count  Dtype  \n",
      "---  ------           --------------  -----  \n",
      " 0   id               5416 non-null   int64  \n",
      " 1   name             5416 non-null   object \n",
      " 2   date             5416 non-null   object \n",
      " 3   manner_of_death  5416 non-null   object \n",
      " 4   armed            5189 non-null   object \n",
      " 5   age              5181 non-null   float64\n",
      " 6   gender           5414 non-null   object \n",
      " 7   race             4895 non-null   object \n",
      " 8   city             5416 non-null   object \n",
      " 9   state            5416 non-null   object \n",
      " 10  mental_illness   5416 non-null   bool   \n",
      " 11  threat_level     5416 non-null   object \n",
      " 12  flee             5167 non-null   object \n",
      " 13  body_camera      5416 non-null   bool   \n",
      " 14  year             5416 non-null   object \n",
      " 15  month            5416 non-null   object \n",
      " 16  day              5416 non-null   object \n",
      "dtypes: bool(2), float64(1), int64(1), object(13)\n",
      "memory usage: 645.4+ KB\n"
     ]
    }
   ],
   "source": [
    "data.info()"
   ]
  },
  {
   "cell_type": "code",
   "execution_count": 18,
   "metadata": {},
   "outputs": [
    {
     "name": "stdout",
     "output_type": "stream",
     "text": [
      "<class 'pandas.core.frame.DataFrame'>\n",
      "Int64Index: 5181 entries, 0 to 5415\n",
      "Data columns (total 17 columns):\n",
      " #   Column           Non-Null Count  Dtype  \n",
      "---  ------           --------------  -----  \n",
      " 0   id               5181 non-null   int64  \n",
      " 1   name             5181 non-null   object \n",
      " 2   date             5181 non-null   object \n",
      " 3   manner_of_death  5181 non-null   object \n",
      " 4   armed            4960 non-null   object \n",
      " 5   age              5181 non-null   float64\n",
      " 6   gender           5180 non-null   object \n",
      " 7   race             4810 non-null   object \n",
      " 8   city             5181 non-null   object \n",
      " 9   state            5181 non-null   object \n",
      " 10  mental_illness   5181 non-null   bool   \n",
      " 11  threat_level     5181 non-null   object \n",
      " 12  flee             4950 non-null   object \n",
      " 13  body_camera      5181 non-null   bool   \n",
      " 14  year             5181 non-null   object \n",
      " 15  month            5181 non-null   object \n",
      " 16  day              5181 non-null   object \n",
      "dtypes: bool(2), float64(1), int64(1), object(13)\n",
      "memory usage: 657.7+ KB\n"
     ]
    }
   ],
   "source": [
    "data.dropna(subset=['age'], inplace=True)\n",
    "data.info()"
   ]
  },
  {
   "cell_type": "code",
   "execution_count": 19,
   "metadata": {},
   "outputs": [
    {
     "data": {
      "text/plain": [
       "31.0    186\n",
       "25.0    183\n",
       "33.0    171\n",
       "27.0    171\n",
       "29.0    169\n",
       "       ... \n",
       "89.0      1\n",
       "12.0      1\n",
       "78.0      1\n",
       "13.0      1\n",
       "79.0      1\n",
       "Name: age, Length: 77, dtype: int64"
      ]
     },
     "execution_count": 19,
     "metadata": {},
     "output_type": "execute_result"
    }
   ],
   "source": [
    "age_rate=data['age'].value_counts()\n",
    "age_rate"
   ]
  },
  {
   "cell_type": "code",
   "execution_count": 20,
   "metadata": {},
   "outputs": [
    {
     "data": {
      "text/plain": [
       "<matplotlib.axes._subplots.AxesSubplot at 0x1c88f240408>"
      ]
     },
     "execution_count": 20,
     "metadata": {},
     "output_type": "execute_result"
    },
    {
     "data": {
      "image/png": "[encoded data removed]",
      "text/plain": [
       "<Figure size 1440x720 with 1 Axes>"
      ]
     },
     "metadata": {},
     "output_type": "display_data"
    }
   ],
   "source": [
    "agepy=age_rate/6\n",
    "agepy.plot(kind='bar',figsize=[20,10])"
   ]
  },
  {
   "cell_type": "code",
   "execution_count": 21,
   "metadata": {},
   "outputs": [
    {
     "name": "stdout",
     "output_type": "stream",
     "text": [
      "(30, 40]    1517\n",
      "(20, 30]    1487\n",
      "(40, 50]     933\n",
      "(50, 60]     579\n",
      "(10, 20]     369\n",
      "(60, 70]     227\n",
      "(70, 80]      51\n",
      "(80, 90]      15\n",
      "(0, 10]        2\n",
      "Name: age, dtype: int64\n",
      "AxesSubplot(0.125,0.125;0.775x0.755)\n"
     ]
    },
    {
     "data": {
      "image/png": "[encoded data removed]",
      "text/plain": [
       "<Figure size 720x576 with 1 Axes>"
      ]
     },
     "metadata": {},
     "output_type": "display_data"
    }
   ],
   "source": [
    "bins = [0,10,20,30,40,50,60,70,80,90]\n",
    "s = pd.cut(data['age'], bins=bins).value_counts()\n",
    "print(s)\n",
    "print(s.plot(kind='bar',))"
   ]
  },
  {
   "cell_type": "code",
   "execution_count": 60,
   "metadata": {},
   "outputs": [
    {
     "name": "stdout",
     "output_type": "stream",
     "text": [
      "<class 'pandas.core.frame.DataFrame'>\n",
      "RangeIndex: 5416 entries, 0 to 5415\n",
      "Data columns (total 17 columns):\n",
      " #   Column           Non-Null Count  Dtype  \n",
      "---  ------           --------------  -----  \n",
      " 0   id               5416 non-null   int64  \n",
      " 1   name             5416 non-null   object \n",
      " 2   date             5416 non-null   object \n",
      " 3   manner_of_death  5416 non-null   object \n",
      " 4   armed            5189 non-null   object \n",
      " 5   age              5181 non-null   float64\n",
      " 6   gender           5414 non-null   object \n",
      " 7   race             4895 non-null   object \n",
      " 8   city             5416 non-null   object \n",
      " 9   state            5416 non-null   object \n",
      " 10  mental_illness   5416 non-null   bool   \n",
      " 11  threat_level     5416 non-null   object \n",
      " 12  flee             5167 non-null   object \n",
      " 13  body_camera      5416 non-null   bool   \n",
      " 14  year             5416 non-null   object \n",
      " 15  month            5416 non-null   object \n",
      " 16  day              5416 non-null   object \n",
      "dtypes: bool(2), float64(1), int64(1), object(13)\n",
      "memory usage: 645.4+ KB\n"
     ]
    }
   ],
   "source": [
    "data_2.info()"
   ]
  },
  {
   "cell_type": "code",
   "execution_count": 61,
   "metadata": {},
   "outputs": [
    {
     "name": "stdout",
     "output_type": "stream",
     "text": [
      "CA    799\n",
      "TX    481\n",
      "FL    350\n",
      "AZ    254\n",
      "CO    195\n",
      "GA    182\n",
      "OK    164\n",
      "NC    156\n",
      "OH    155\n",
      "WA    152\n",
      "Name: state, dtype: int64\n"
     ]
    },
    {
     "data": {
      "image/png": "[encoded data removed]",
      "text/plain": [
       "<Figure size 720x576 with 1 Axes>"
      ]
     },
     "metadata": {},
     "output_type": "display_data"
    }
   ],
   "source": [
    "state_rate=data_2['state'].value_counts()\n",
    "state_rate.nlargest(10).plot.bar()\n",
    "print(state_rate[:10])"
   ]
  },
  {
   "cell_type": "code",
   "execution_count": 29,
   "metadata": {},
   "outputs": [
    {
     "data": {
      "text/plain": [
       "<matplotlib.axes._subplots.AxesSubplot at 0x1c89059d188>"
      ]
     },
     "execution_count": 29,
     "metadata": {},
     "output_type": "execute_result"
    },
    {
     "data": {
      "image/png": "[encoded data removed]",
      "text/plain": [
       "<Figure size 720x576 with 1 Axes>"
      ]
     },
     "metadata": {},
     "output_type": "display_data"
    }
   ],
   "source": [
    "data_2.groupby(['state','race'])['state'].size().nlargest(20).unstack().plot.bar()"
   ]
  },
  {
   "cell_type": "code",
   "execution_count": null,
   "metadata": {},
   "outputs": [],
   "source": []
  }
 ],
 "metadata": {
  "kernelspec": {
   "display_name": "Python 3",
   "language": "python",
   "name": "python3"
  },
  "language_info": {
   "codemirror_mode": {
    "name": "ipython",
    "version": 3
   },
   "file_extension": ".py",
   "mimetype": "text/x-python",
   "name": "python",
   "nbconvert_exporter": "python",
   "pygments_lexer": "ipython3",
   "version": "3.7.6"
  }
 },
 "nbformat": 4,
 "nbformat_minor": 4
}
