{
 "cells": [
  {
   "cell_type": "code",
   "execution_count": 105,
   "metadata": {},
   "outputs": [],
   "source": [
    "import tensorflow as tf\n",
    "from keras.preprocessing.image import ImageDataGenerator\n",
    "from tensorflow.keras import Sequential, layers\n",
    "from tensorflow.keras.layers import Conv2D, MaxPooling2D\n",
    "from tensorflow.keras.layers import Activation, Dropout, Flatten, Dense\n",
    "from keras import backend as K"
   ]
  },
  {
   "cell_type": "code",
   "execution_count": 106,
   "metadata": {},
   "outputs": [],
   "source": [
    "# dimensions of our images.\n",
    "img_width, img_height = 224, 224"
   ]
  },
  {
   "cell_type": "code",
   "execution_count": 107,
   "metadata": {},
   "outputs": [],
   "source": [
    "train_data_dir = 'C:\\\\Users\\\\Prashant\\\\Desktop\\\\Data science practice\\\\image detection_tensor flow\\\\Dataset\\\\Train'\n",
    "validation_data_dir = 'C:\\\\Users\\\\Prashant\\\\Desktop\\\\Data science practice\\\\image detection_tensor flow\\\\Dataset\\\\Test'\n",
    "nb_train_samples = 416\n",
    "nb_validation_samples = 134\n",
    "epochs = 50\n",
    "batch_size = 32"
   ]
  },
  {
   "cell_type": "code",
   "execution_count": 108,
   "metadata": {},
   "outputs": [],
   "source": [
    "if K.image_data_format() == 'channels_first':\n",
    "    input_shape = (3, img_width, img_height)\n",
    "else:\n",
    "    input_shape = (img_width, img_height, 3)"
   ]
  },
  {
   "cell_type": "code",
   "execution_count": 160,
   "metadata": {},
   "outputs": [
    {
     "name": "stdout",
     "output_type": "stream",
     "text": [
      "Model: \"sequential_24\"\n",
      "_________________________________________________________________\n",
      "Layer (type)                 Output Shape              Param #   \n",
      "=================================================================\n",
      "conv2d_137 (Conv2D)          (None, 222, 222, 32)      896       \n",
      "_________________________________________________________________\n",
      "activation_162 (Activation)  (None, 222, 222, 32)      0         \n",
      "_________________________________________________________________\n",
      "max_pooling2d_132 (MaxPoolin (None, 111, 111, 32)      0         \n",
      "_________________________________________________________________\n",
      "conv2d_138 (Conv2D)          (None, 109, 109, 32)      9248      \n",
      "_________________________________________________________________\n",
      "activation_163 (Activation)  (None, 109, 109, 32)      0         \n",
      "_________________________________________________________________\n",
      "max_pooling2d_133 (MaxPoolin (None, 54, 54, 32)        0         \n",
      "_________________________________________________________________\n",
      "conv2d_139 (Conv2D)          (None, 52, 52, 32)        9248      \n",
      "_________________________________________________________________\n",
      "activation_164 (Activation)  (None, 52, 52, 32)        0         \n",
      "_________________________________________________________________\n",
      "max_pooling2d_134 (MaxPoolin (None, 26, 26, 32)        0         \n",
      "_________________________________________________________________\n",
      "conv2d_140 (Conv2D)          (None, 24, 24, 32)        9248      \n",
      "_________________________________________________________________\n",
      "activation_165 (Activation)  (None, 24, 24, 32)        0         \n",
      "_________________________________________________________________\n",
      "max_pooling2d_135 (MaxPoolin (None, 12, 12, 32)        0         \n",
      "_________________________________________________________________\n",
      "conv2d_141 (Conv2D)          (None, 10, 10, 32)        9248      \n",
      "_________________________________________________________________\n",
      "activation_166 (Activation)  (None, 10, 10, 32)        0         \n",
      "_________________________________________________________________\n",
      "max_pooling2d_136 (MaxPoolin (None, 5, 5, 32)          0         \n",
      "_________________________________________________________________\n",
      "global_max_pooling2d_7 (Glob (None, 32)                0         \n",
      "=================================================================\n",
      "Total params: 37,888\n",
      "Trainable params: 37,888\n",
      "Non-trainable params: 0\n",
      "_________________________________________________________________\n"
     ]
    }
   ],
   "source": [
    "model = Sequential()\n",
    "model.add(Conv2D(32, (3, 3), input_shape=input_shape))\n",
    "model.add(Activation('relu'))\n",
    "model.add(MaxPooling2D(pool_size=(2, 2)))\n",
    "\n",
    "model.add(Conv2D(32, (3, 3)))\n",
    "model.add(Activation('relu'))\n",
    "model.add(MaxPooling2D(pool_size=(2, 2)))\n",
    "\n",
    "model.add(Conv2D(32, (3, 3)))\n",
    "model.add(Activation('relu'))\n",
    "model.add(MaxPooling2D(pool_size=(2, 2)))\n",
    "\n",
    "model.add(Conv2D(32, (3, 3)))\n",
    "model.add(Activation('relu'))\n",
    "model.add(MaxPooling2D(pool_size=(2, 2)))\n",
    "\n",
    "model.add(Conv2D(32, (3, 3)))\n",
    "model.add(Activation('relu'))\n",
    "model.add(MaxPooling2D(pool_size=(2, 2)))\n",
    "\n",
    "\n",
    "model.add(layers.GlobalMaxPooling2D())\n",
    "\n",
    "model.summary()\n",
    "\n",
    "\n",
    "model.add(layers.Dense(16))\n"
   ]
  },
  {
   "cell_type": "code",
   "execution_count": 161,
   "metadata": {},
   "outputs": [
    {
     "name": "stdout",
     "output_type": "stream",
     "text": [
      "Model: \"sequential_24\"\n",
      "_________________________________________________________________\n",
      "Layer (type)                 Output Shape              Param #   \n",
      "=================================================================\n",
      "conv2d_137 (Conv2D)          (None, 222, 222, 32)      896       \n",
      "_________________________________________________________________\n",
      "activation_162 (Activation)  (None, 222, 222, 32)      0         \n",
      "_________________________________________________________________\n",
      "max_pooling2d_132 (MaxPoolin (None, 111, 111, 32)      0         \n",
      "_________________________________________________________________\n",
      "conv2d_138 (Conv2D)          (None, 109, 109, 32)      9248      \n",
      "_________________________________________________________________\n",
      "activation_163 (Activation)  (None, 109, 109, 32)      0         \n",
      "_________________________________________________________________\n",
      "max_pooling2d_133 (MaxPoolin (None, 54, 54, 32)        0         \n",
      "_________________________________________________________________\n",
      "conv2d_139 (Conv2D)          (None, 52, 52, 32)        9248      \n",
      "_________________________________________________________________\n",
      "activation_164 (Activation)  (None, 52, 52, 32)        0         \n",
      "_________________________________________________________________\n",
      "max_pooling2d_134 (MaxPoolin (None, 26, 26, 32)        0         \n",
      "_________________________________________________________________\n",
      "conv2d_140 (Conv2D)          (None, 24, 24, 32)        9248      \n",
      "_________________________________________________________________\n",
      "activation_165 (Activation)  (None, 24, 24, 32)        0         \n",
      "_________________________________________________________________\n",
      "max_pooling2d_135 (MaxPoolin (None, 12, 12, 32)        0         \n",
      "_________________________________________________________________\n",
      "conv2d_141 (Conv2D)          (None, 10, 10, 32)        9248      \n",
      "_________________________________________________________________\n",
      "activation_166 (Activation)  (None, 10, 10, 32)        0         \n",
      "_________________________________________________________________\n",
      "max_pooling2d_136 (MaxPoolin (None, 5, 5, 32)          0         \n",
      "_________________________________________________________________\n",
      "global_max_pooling2d_7 (Glob (None, 32)                0         \n",
      "_________________________________________________________________\n",
      "dense_38 (Dense)             (None, 16)                528       \n",
      "_________________________________________________________________\n",
      "flatten_16 (Flatten)         (None, 16)                0         \n",
      "=================================================================\n",
      "Total params: 38,416\n",
      "Trainable params: 38,416\n",
      "Non-trainable params: 0\n",
      "_________________________________________________________________\n"
     ]
    }
   ],
   "source": [
    "model.add(Flatten())\n",
    "model.summary()\n"
   ]
  },
  {
   "cell_type": "code",
   "execution_count": 162,
   "metadata": {},
   "outputs": [
    {
     "name": "stdout",
     "output_type": "stream",
     "text": [
      "Model: \"sequential_24\"\n",
      "_________________________________________________________________\n",
      "Layer (type)                 Output Shape              Param #   \n",
      "=================================================================\n",
      "conv2d_137 (Conv2D)          (None, 222, 222, 32)      896       \n",
      "_________________________________________________________________\n",
      "activation_162 (Activation)  (None, 222, 222, 32)      0         \n",
      "_________________________________________________________________\n",
      "max_pooling2d_132 (MaxPoolin (None, 111, 111, 32)      0         \n",
      "_________________________________________________________________\n",
      "conv2d_138 (Conv2D)          (None, 109, 109, 32)      9248      \n",
      "_________________________________________________________________\n",
      "activation_163 (Activation)  (None, 109, 109, 32)      0         \n",
      "_________________________________________________________________\n",
      "max_pooling2d_133 (MaxPoolin (None, 54, 54, 32)        0         \n",
      "_________________________________________________________________\n",
      "conv2d_139 (Conv2D)          (None, 52, 52, 32)        9248      \n",
      "_________________________________________________________________\n",
      "activation_164 (Activation)  (None, 52, 52, 32)        0         \n",
      "_________________________________________________________________\n",
      "max_pooling2d_134 (MaxPoolin (None, 26, 26, 32)        0         \n",
      "_________________________________________________________________\n",
      "conv2d_140 (Conv2D)          (None, 24, 24, 32)        9248      \n",
      "_________________________________________________________________\n",
      "activation_165 (Activation)  (None, 24, 24, 32)        0         \n",
      "_________________________________________________________________\n",
      "max_pooling2d_135 (MaxPoolin (None, 12, 12, 32)        0         \n",
      "_________________________________________________________________\n",
      "conv2d_141 (Conv2D)          (None, 10, 10, 32)        9248      \n",
      "_________________________________________________________________\n",
      "activation_166 (Activation)  (None, 10, 10, 32)        0         \n",
      "_________________________________________________________________\n",
      "max_pooling2d_136 (MaxPoolin (None, 5, 5, 32)          0         \n",
      "_________________________________________________________________\n",
      "global_max_pooling2d_7 (Glob (None, 32)                0         \n",
      "_________________________________________________________________\n",
      "dense_38 (Dense)             (None, 16)                528       \n",
      "_________________________________________________________________\n",
      "flatten_16 (Flatten)         (None, 16)                0         \n",
      "_________________________________________________________________\n",
      "dense_39 (Dense)             (None, 16)                272       \n",
      "=================================================================\n",
      "Total params: 38,688\n",
      "Trainable params: 38,688\n",
      "Non-trainable params: 0\n",
      "_________________________________________________________________\n"
     ]
    }
   ],
   "source": [
    "model.add(Dense(16))\n",
    "model.summary()\n",
    "\n"
   ]
  },
  {
   "cell_type": "code",
   "execution_count": 163,
   "metadata": {},
   "outputs": [
    {
     "name": "stdout",
     "output_type": "stream",
     "text": [
      "Model: \"sequential_24\"\n",
      "_________________________________________________________________\n",
      "Layer (type)                 Output Shape              Param #   \n",
      "=================================================================\n",
      "conv2d_137 (Conv2D)          (None, 222, 222, 32)      896       \n",
      "_________________________________________________________________\n",
      "activation_162 (Activation)  (None, 222, 222, 32)      0         \n",
      "_________________________________________________________________\n",
      "max_pooling2d_132 (MaxPoolin (None, 111, 111, 32)      0         \n",
      "_________________________________________________________________\n",
      "conv2d_138 (Conv2D)          (None, 109, 109, 32)      9248      \n",
      "_________________________________________________________________\n",
      "activation_163 (Activation)  (None, 109, 109, 32)      0         \n",
      "_________________________________________________________________\n",
      "max_pooling2d_133 (MaxPoolin (None, 54, 54, 32)        0         \n",
      "_________________________________________________________________\n",
      "conv2d_139 (Conv2D)          (None, 52, 52, 32)        9248      \n",
      "_________________________________________________________________\n",
      "activation_164 (Activation)  (None, 52, 52, 32)        0         \n",
      "_________________________________________________________________\n",
      "max_pooling2d_134 (MaxPoolin (None, 26, 26, 32)        0         \n",
      "_________________________________________________________________\n",
      "conv2d_140 (Conv2D)          (None, 24, 24, 32)        9248      \n",
      "_________________________________________________________________\n",
      "activation_165 (Activation)  (None, 24, 24, 32)        0         \n",
      "_________________________________________________________________\n",
      "max_pooling2d_135 (MaxPoolin (None, 12, 12, 32)        0         \n",
      "_________________________________________________________________\n",
      "conv2d_141 (Conv2D)          (None, 10, 10, 32)        9248      \n",
      "_________________________________________________________________\n",
      "activation_166 (Activation)  (None, 10, 10, 32)        0         \n",
      "_________________________________________________________________\n",
      "max_pooling2d_136 (MaxPoolin (None, 5, 5, 32)          0         \n",
      "_________________________________________________________________\n",
      "global_max_pooling2d_7 (Glob (None, 32)                0         \n",
      "_________________________________________________________________\n",
      "dense_38 (Dense)             (None, 16)                528       \n",
      "_________________________________________________________________\n",
      "flatten_16 (Flatten)         (None, 16)                0         \n",
      "_________________________________________________________________\n",
      "dense_39 (Dense)             (None, 16)                272       \n",
      "_________________________________________________________________\n",
      "activation_167 (Activation)  (None, 16)                0         \n",
      "_________________________________________________________________\n",
      "dropout_16 (Dropout)         (None, 16)                0         \n",
      "_________________________________________________________________\n",
      "dense_40 (Dense)             (None, 1)                 17        \n",
      "=================================================================\n",
      "Total params: 38,705\n",
      "Trainable params: 38,705\n",
      "Non-trainable params: 0\n",
      "_________________________________________________________________\n"
     ]
    }
   ],
   "source": [
    "model.add(Activation('relu'))\n",
    "model.add(Dropout(0.5))\n",
    "model.add(Dense(1))\n",
    "model.summary()\n"
   ]
  },
  {
   "cell_type": "code",
   "execution_count": 164,
   "metadata": {},
   "outputs": [],
   "source": [
    "model.add(Activation('sigmoid'))"
   ]
  },
  {
   "cell_type": "code",
   "execution_count": 165,
   "metadata": {},
   "outputs": [],
   "source": [
    "model.compile(loss='binary_crossentropy',\n",
    "              optimizer='rmsprop',\n",
    "              metrics=['accuracy'])\n"
   ]
  },
  {
   "cell_type": "code",
   "execution_count": 166,
   "metadata": {},
   "outputs": [],
   "source": [
    "# this is the augmentation configuration we will use for training\n",
    "train_datagen = ImageDataGenerator(\n",
    "    rescale=1. / 255,\n",
    "    shear_range=0.2,\n",
    "    zoom_range=0.2,\n",
    "    horizontal_flip=True)\n"
   ]
  },
  {
   "cell_type": "code",
   "execution_count": 167,
   "metadata": {},
   "outputs": [],
   "source": [
    "# this is the augmentation configuration we will use for testing:\n",
    "# only rescaling\n",
    "test_datagen = ImageDataGenerator(rescale=1. / 255)"
   ]
  },
  {
   "cell_type": "code",
   "execution_count": 168,
   "metadata": {},
   "outputs": [
    {
     "name": "stdout",
     "output_type": "stream",
     "text": [
      "Found 416 images belonging to 2 classes.\n"
     ]
    }
   ],
   "source": [
    "train_generator = train_datagen.flow_from_directory(\n",
    "    train_data_dir,\n",
    "    target_size=(img_width, img_height),\n",
    "    batch_size=batch_size,\n",
    "    class_mode='binary')"
   ]
  },
  {
   "cell_type": "code",
   "execution_count": 169,
   "metadata": {},
   "outputs": [
    {
     "name": "stdout",
     "output_type": "stream",
     "text": [
      "Found 134 images belonging to 2 classes.\n"
     ]
    }
   ],
   "source": [
    "validation_generator = test_datagen.flow_from_directory(\n",
    "    validation_data_dir,\n",
    "    target_size=(img_width, img_height),\n",
    "    batch_size=batch_size,\n",
    "    class_mode='binary')"
   ]
  },
  {
   "cell_type": "code",
   "execution_count": 170,
   "metadata": {},
   "outputs": [
    {
     "name": "stdout",
     "output_type": "stream",
     "text": [
      "Epoch 1/50\n",
      "13/13 [==============================] - 25s 2s/step - loss: 0.6933 - accuracy: 0.5120 - val_loss: 0.6424 - val_accuracy: 0.6797\n",
      "Epoch 2/50\n",
      "13/13 [==============================] - 25s 2s/step - loss: 0.6967 - accuracy: 0.4880 - val_loss: 0.6857 - val_accuracy: 0.6641\n",
      "Epoch 3/50\n",
      "13/13 [==============================] - 24s 2s/step - loss: 0.6480 - accuracy: 0.5865 - val_loss: 0.5490 - val_accuracy: 0.6719\n",
      "Epoch 4/50\n",
      "13/13 [==============================] - 25s 2s/step - loss: 0.4859 - accuracy: 0.8101 - val_loss: 0.3555 - val_accuracy: 0.7422\n",
      "Epoch 5/50\n",
      "13/13 [==============================] - 24s 2s/step - loss: 0.4285 - accuracy: 0.9303 - val_loss: 0.3064 - val_accuracy: 0.8594\n",
      "Epoch 6/50\n",
      "13/13 [==============================] - 24s 2s/step - loss: 0.3415 - accuracy: 0.9663 - val_loss: 0.2757 - val_accuracy: 0.9375\n",
      "Epoch 7/50\n",
      "13/13 [==============================] - 24s 2s/step - loss: 0.4107 - accuracy: 0.8654 - val_loss: 0.3563 - val_accuracy: 0.8281\n",
      "Epoch 8/50\n",
      "13/13 [==============================] - 25s 2s/step - loss: 0.2557 - accuracy: 0.9495 - val_loss: 0.2553 - val_accuracy: 0.8828\n",
      "Epoch 9/50\n",
      "13/13 [==============================] - 25s 2s/step - loss: 0.3093 - accuracy: 0.9111 - val_loss: 0.3211 - val_accuracy: 0.8438\n",
      "Epoch 10/50\n",
      "13/13 [==============================] - 25s 2s/step - loss: 0.2050 - accuracy: 0.9663 - val_loss: 0.2089 - val_accuracy: 0.8984\n",
      "Epoch 11/50\n",
      "13/13 [==============================] - 24s 2s/step - loss: 0.2195 - accuracy: 0.9471 - val_loss: 0.1745 - val_accuracy: 0.9141\n",
      "Epoch 12/50\n",
      "13/13 [==============================] - 24s 2s/step - loss: 0.2245 - accuracy: 0.9591 - val_loss: 0.2477 - val_accuracy: 0.8906\n",
      "Epoch 13/50\n",
      "13/13 [==============================] - 24s 2s/step - loss: 0.2109 - accuracy: 0.9543 - val_loss: 0.2575 - val_accuracy: 0.8828\n",
      "Epoch 14/50\n",
      "13/13 [==============================] - 24s 2s/step - loss: 0.3340 - accuracy: 0.9159 - val_loss: 0.3836 - val_accuracy: 0.8125\n",
      "Epoch 15/50\n",
      "13/13 [==============================] - 24s 2s/step - loss: 0.2213 - accuracy: 0.9327 - val_loss: 0.1867 - val_accuracy: 0.9219\n",
      "Epoch 16/50\n",
      "13/13 [==============================] - 24s 2s/step - loss: 0.2491 - accuracy: 0.9399 - val_loss: 0.2195 - val_accuracy: 0.9062\n",
      "Epoch 17/50\n",
      "13/13 [==============================] - 24s 2s/step - loss: 0.1835 - accuracy: 0.9639 - val_loss: 0.1310 - val_accuracy: 0.9531\n",
      "Epoch 18/50\n",
      "13/13 [==============================] - 24s 2s/step - loss: 0.2077 - accuracy: 0.9423 - val_loss: 0.1533 - val_accuracy: 0.9453\n",
      "Epoch 19/50\n",
      "13/13 [==============================] - 24s 2s/step - loss: 0.2051 - accuracy: 0.9615 - val_loss: 0.2534 - val_accuracy: 0.8828\n",
      "Epoch 20/50\n",
      "13/13 [==============================] - 24s 2s/step - loss: 0.1836 - accuracy: 0.9663 - val_loss: 0.1370 - val_accuracy: 0.9375\n",
      "Epoch 21/50\n",
      "13/13 [==============================] - 24s 2s/step - loss: 0.2164 - accuracy: 0.9375 - val_loss: 0.3627 - val_accuracy: 0.8359\n",
      "Epoch 22/50\n",
      "13/13 [==============================] - 24s 2s/step - loss: 0.2010 - accuracy: 0.9688 - val_loss: 0.1456 - val_accuracy: 0.9609\n",
      "Epoch 23/50\n",
      "13/13 [==============================] - 24s 2s/step - loss: 0.1639 - accuracy: 0.9615 - val_loss: 0.2380 - val_accuracy: 0.9062\n",
      "Epoch 24/50\n",
      "13/13 [==============================] - 24s 2s/step - loss: 0.1473 - accuracy: 0.9832 - val_loss: 0.1323 - val_accuracy: 0.9609\n",
      "Epoch 25/50\n",
      "13/13 [==============================] - 24s 2s/step - loss: 0.1338 - accuracy: 0.9808 - val_loss: 0.1677 - val_accuracy: 0.9297\n",
      "Epoch 26/50\n",
      "13/13 [==============================] - 24s 2s/step - loss: 0.3449 - accuracy: 0.9327 - val_loss: 0.4136 - val_accuracy: 0.8516\n",
      "Epoch 27/50\n",
      "13/13 [==============================] - 24s 2s/step - loss: 0.1998 - accuracy: 0.9567 - val_loss: 0.1503 - val_accuracy: 0.9297\n",
      "Epoch 28/50\n",
      "13/13 [==============================] - 24s 2s/step - loss: 0.1298 - accuracy: 0.9880 - val_loss: 0.1275 - val_accuracy: 0.9453\n",
      "Epoch 29/50\n",
      "13/13 [==============================] - 24s 2s/step - loss: 0.1074 - accuracy: 0.9856 - val_loss: 1.2003 - val_accuracy: 0.7578\n",
      "Epoch 30/50\n",
      "13/13 [==============================] - 24s 2s/step - loss: 0.1989 - accuracy: 0.9688 - val_loss: 0.2050 - val_accuracy: 0.9297\n",
      "Epoch 31/50\n",
      "13/13 [==============================] - 24s 2s/step - loss: 0.1217 - accuracy: 0.9808 - val_loss: 0.1318 - val_accuracy: 0.9688\n",
      "Epoch 32/50\n",
      "13/13 [==============================] - 24s 2s/step - loss: 0.1720 - accuracy: 0.9712 - val_loss: 0.1878 - val_accuracy: 0.9375\n",
      "Epoch 33/50\n",
      "13/13 [==============================] - 24s 2s/step - loss: 0.1511 - accuracy: 0.9567 - val_loss: 0.1359 - val_accuracy: 0.9609\n",
      "Epoch 34/50\n",
      "13/13 [==============================] - 24s 2s/step - loss: 0.1579 - accuracy: 0.9736 - val_loss: 0.1214 - val_accuracy: 0.9609\n",
      "Epoch 35/50\n",
      "13/13 [==============================] - 24s 2s/step - loss: 0.2644 - accuracy: 0.9447 - val_loss: 0.1820 - val_accuracy: 0.9453\n",
      "Epoch 36/50\n",
      "13/13 [==============================] - 24s 2s/step - loss: 0.1208 - accuracy: 0.9808 - val_loss: 0.1742 - val_accuracy: 0.9688\n",
      "Epoch 37/50\n",
      "13/13 [==============================] - 23s 2s/step - loss: 0.1103 - accuracy: 0.9784 - val_loss: 0.1642 - val_accuracy: 0.9297\n",
      "Epoch 38/50\n",
      "13/13 [==============================] - 25s 2s/step - loss: 0.1369 - accuracy: 0.9784 - val_loss: 0.1828 - val_accuracy: 0.9453\n",
      "Epoch 39/50\n",
      "13/13 [==============================] - 24s 2s/step - loss: 0.1225 - accuracy: 0.9832 - val_loss: 0.1077 - val_accuracy: 0.9609\n",
      "Epoch 40/50\n",
      "13/13 [==============================] - 24s 2s/step - loss: 0.1457 - accuracy: 0.9712 - val_loss: 0.4114 - val_accuracy: 0.8906\n",
      "Epoch 41/50\n",
      "13/13 [==============================] - 24s 2s/step - loss: 0.1682 - accuracy: 0.9736 - val_loss: 0.1342 - val_accuracy: 0.9531\n",
      "Epoch 42/50\n",
      "13/13 [==============================] - 24s 2s/step - loss: 0.1418 - accuracy: 0.9856 - val_loss: 0.3386 - val_accuracy: 0.8828\n",
      "Epoch 43/50\n",
      "13/13 [==============================] - 24s 2s/step - loss: 0.1279 - accuracy: 0.9832 - val_loss: 0.1466 - val_accuracy: 0.9688\n",
      "Epoch 44/50\n",
      "13/13 [==============================] - 24s 2s/step - loss: 0.1257 - accuracy: 0.9808 - val_loss: 0.1730 - val_accuracy: 0.9453\n",
      "Epoch 45/50\n",
      "13/13 [==============================] - 24s 2s/step - loss: 0.1023 - accuracy: 0.9856 - val_loss: 0.1421 - val_accuracy: 0.9531\n",
      "Epoch 46/50\n",
      "13/13 [==============================] - 24s 2s/step - loss: 0.1005 - accuracy: 0.9784 - val_loss: 0.1314 - val_accuracy: 0.9531\n",
      "Epoch 47/50\n",
      "13/13 [==============================] - 24s 2s/step - loss: 0.1582 - accuracy: 0.9688 - val_loss: 0.1603 - val_accuracy: 0.9375\n",
      "Epoch 48/50\n",
      "13/13 [==============================] - 24s 2s/step - loss: 0.1067 - accuracy: 0.9880 - val_loss: 0.0958 - val_accuracy: 0.9688\n",
      "Epoch 49/50\n",
      "13/13 [==============================] - 24s 2s/step - loss: 0.1172 - accuracy: 0.9736 - val_loss: 0.1147 - val_accuracy: 0.9688\n",
      "Epoch 50/50\n",
      "13/13 [==============================] - 24s 2s/step - loss: 0.1065 - accuracy: 0.9760 - val_loss: 0.1910 - val_accuracy: 0.9297\n"
     ]
    },
    {
     "data": {
      "text/plain": [
       "<tensorflow.python.keras.callbacks.History at 0x25f8865c448>"
      ]
     },
     "execution_count": 170,
     "metadata": {},
     "output_type": "execute_result"
    }
   ],
   "source": [
    "model.fit(\n",
    "    train_generator,\n",
    "    steps_per_epoch=nb_train_samples // batch_size,\n",
    "    epochs=epochs,\n",
    "    validation_data=validation_generator,\n",
    "    validation_steps=nb_validation_samples // batch_size)"
   ]
  },
  {
   "cell_type": "code",
   "execution_count": 171,
   "metadata": {},
   "outputs": [],
   "source": [
    "model.save_weights('first_try.h5')"
   ]
  },
  {
   "cell_type": "code",
   "execution_count": null,
   "metadata": {},
   "outputs": [],
   "source": []
  }
 ],
 "metadata": {
  "kernelspec": {
   "display_name": "Python 3",
   "language": "python",
   "name": "python3"
  },
  "language_info": {
   "codemirror_mode": {
    "name": "ipython",
    "version": 3
   },
   "file_extension": ".py",
   "mimetype": "text/x-python",
   "name": "python",
   "nbconvert_exporter": "python",
   "pygments_lexer": "ipython3",
   "version": "3.7.6"
  }
 },
 "nbformat": 4,
 "nbformat_minor": 4
}
